{
 "cells": [
  {
   "cell_type": "markdown",
   "id": "1730716f",
   "metadata": {},
   "source": [
    "# OLYMPICS EXPLORATORY DATA ANALYSIS"
   ]
  },
  {
   "cell_type": "markdown",
   "id": "ba09aa7b",
   "metadata": {},
   "source": [
    "# About Dataset :\n",
    " \n",
    "  The ‘dataset on the modern Olympic Games’ comprises all the Games from Athens\n",
    "1986 to Rio 2016. The Olympics is more than just a quadrennial multi-sport\n",
    "world championship. It is a lens through which to understand global history,\n",
    "including shifting geopolitical power dynamics, women’s empowerment, and the\n",
    "evolving values of society.\n",
    "\n",
    "In this analysis, goal is to shed light on major patterns in Olympic history.\n",
    "How many athletes, sports, and nations are there? Where do most athletes\n",
    "come from? Who wins medals? What are the characteristic of the athletes (e.g.,\n",
    "gender and physical size)?\n",
    "\n",
    "Olympics data contains 271,116 rows and 17 columns with details of athletes,\n",
    "events and medals won.\n",
    "\n",
    "Each row corresponds to an individual athlete competing in an individual\n",
    "Olympic event (athlete-events). "
   ]
  },
  {
   "cell_type": "raw",
   "id": "f4df5be4",
   "metadata": {},
   "source": [
    "The columns are: \n",
    "\n",
    "ID - Unique number for each athlete\n",
    "Name - Athlete's name\n",
    "Sex - M or F\n",
    "Age - Integer\n",
    "Height - In centimetres\n",
    "Weight - In kilograms\n",
    "Team - Team name\n",
    "NOC - National Olympic Committee 3-letter code\n",
    "Games - Year and season\n",
    "Year - Integer\n",
    "Season - Summer or Winter\n",
    "City - Host city\n",
    "Sport - Sport\n",
    "Event - Event\n",
    "Medal - Gold, Silver, Bronze, or NA\n",
    "Region - Country that has won the title\n",
    "Notes - Special Notes related to that evenolympics = olympics.drop(['Height','Weight','notes'],axis = 1)"
   ]
  },
  {
   "cell_type": "markdown",
   "id": "8b70e0f5",
   "metadata": {},
   "source": [
    "# DATA CLEANING AND UNDERSTANDING THE DATA"
   ]
  },
  {
   "cell_type": "markdown",
   "id": "55e468ff",
   "metadata": {},
   "source": [
    "<b>Installing Required Modules and Libraries"
   ]
  },
  {
   "cell_type": "code",
   "execution_count": 19,
   "id": "ea43e6d0",
   "metadata": {},
   "outputs": [],
   "source": [
    "from scipy.stats import norm\n",
    "import scipy.stats as stats\n",
    "import numpy as np\n",
    "import pandas as pd\n",
    "import matplotlib.pyplot as plt"
   ]
  },
  {
   "cell_type": "markdown",
   "id": "fd01053d",
   "metadata": {},
   "source": [
    "<b>Reading the DataSet File"
   ]
  },
  {
   "cell_type": "code",
   "execution_count": 97,
   "id": "b8a1ea9a",
   "metadata": {},
   "outputs": [],
   "source": [
    "olympics = pd.read_csv(\"olympics.csv\")"
   ]
  },
  {
   "cell_type": "markdown",
   "id": "108e7a0c",
   "metadata": {},
   "source": [
    "<b>Lets First look at the shape of the Dataset, to get the understanding of the data better"
   ]
  },
  {
   "cell_type": "code",
   "execution_count": 99,
   "id": "74cb4bc6",
   "metadata": {},
   "outputs": [
    {
     "data": {
      "text/plain": [
       "(271116, 17)"
      ]
     },
     "execution_count": 99,
     "metadata": {},
     "output_type": "execute_result"
    }
   ],
   "source": [
    "olympics.shape"
   ]
  },
  {
   "cell_type": "markdown",
   "id": "665a4971",
   "metadata": {},
   "source": [
    "As mentioned in description, it is correct that this dataset have 271116 rows and 17 columns"
   ]
  },
  {
   "cell_type": "markdown",
   "id": "b1204a69",
   "metadata": {},
   "source": [
    "<b>Lets Look the description of the Dataset for better understanding of Age , Height and Weight"
   ]
  },
  {
   "cell_type": "code",
   "execution_count": 100,
   "id": "455f5b14",
   "metadata": {},
   "outputs": [
    {
     "data": {
      "text/html": [
       "<div>\n",
       "<style scoped>\n",
       "    .dataframe tbody tr th:only-of-type {\n",
       "        vertical-align: middle;\n",
       "    }\n",
       "\n",
       "    .dataframe tbody tr th {\n",
       "        vertical-align: top;\n",
       "    }\n",
       "\n",
       "    .dataframe thead th {\n",
       "        text-align: right;\n",
       "    }\n",
       "</style>\n",
       "<table border=\"1\" class=\"dataframe\">\n",
       "  <thead>\n",
       "    <tr style=\"text-align: right;\">\n",
       "      <th></th>\n",
       "      <th>ID</th>\n",
       "      <th>Age</th>\n",
       "      <th>Height</th>\n",
       "      <th>Weight</th>\n",
       "      <th>Year</th>\n",
       "    </tr>\n",
       "  </thead>\n",
       "  <tbody>\n",
       "    <tr>\n",
       "      <th>count</th>\n",
       "      <td>271116.000000</td>\n",
       "      <td>261642.000000</td>\n",
       "      <td>210945.000000</td>\n",
       "      <td>208241.000000</td>\n",
       "      <td>271116.000000</td>\n",
       "    </tr>\n",
       "    <tr>\n",
       "      <th>mean</th>\n",
       "      <td>68248.954396</td>\n",
       "      <td>25.556898</td>\n",
       "      <td>175.338970</td>\n",
       "      <td>70.702393</td>\n",
       "      <td>1978.378480</td>\n",
       "    </tr>\n",
       "    <tr>\n",
       "      <th>std</th>\n",
       "      <td>39022.286345</td>\n",
       "      <td>6.393561</td>\n",
       "      <td>10.518462</td>\n",
       "      <td>14.348020</td>\n",
       "      <td>29.877632</td>\n",
       "    </tr>\n",
       "    <tr>\n",
       "      <th>min</th>\n",
       "      <td>1.000000</td>\n",
       "      <td>10.000000</td>\n",
       "      <td>127.000000</td>\n",
       "      <td>25.000000</td>\n",
       "      <td>1896.000000</td>\n",
       "    </tr>\n",
       "    <tr>\n",
       "      <th>25%</th>\n",
       "      <td>34643.000000</td>\n",
       "      <td>21.000000</td>\n",
       "      <td>168.000000</td>\n",
       "      <td>60.000000</td>\n",
       "      <td>1960.000000</td>\n",
       "    </tr>\n",
       "    <tr>\n",
       "      <th>50%</th>\n",
       "      <td>68205.000000</td>\n",
       "      <td>24.000000</td>\n",
       "      <td>175.000000</td>\n",
       "      <td>70.000000</td>\n",
       "      <td>1988.000000</td>\n",
       "    </tr>\n",
       "    <tr>\n",
       "      <th>75%</th>\n",
       "      <td>102097.250000</td>\n",
       "      <td>28.000000</td>\n",
       "      <td>183.000000</td>\n",
       "      <td>79.000000</td>\n",
       "      <td>2002.000000</td>\n",
       "    </tr>\n",
       "    <tr>\n",
       "      <th>max</th>\n",
       "      <td>135571.000000</td>\n",
       "      <td>97.000000</td>\n",
       "      <td>226.000000</td>\n",
       "      <td>214.000000</td>\n",
       "      <td>2016.000000</td>\n",
       "    </tr>\n",
       "  </tbody>\n",
       "</table>\n",
       "</div>"
      ],
      "text/plain": [
       "                  ID            Age         Height         Weight  \\\n",
       "count  271116.000000  261642.000000  210945.000000  208241.000000   \n",
       "mean    68248.954396      25.556898     175.338970      70.702393   \n",
       "std     39022.286345       6.393561      10.518462      14.348020   \n",
       "min         1.000000      10.000000     127.000000      25.000000   \n",
       "25%     34643.000000      21.000000     168.000000      60.000000   \n",
       "50%     68205.000000      24.000000     175.000000      70.000000   \n",
       "75%    102097.250000      28.000000     183.000000      79.000000   \n",
       "max    135571.000000      97.000000     226.000000     214.000000   \n",
       "\n",
       "                Year  \n",
       "count  271116.000000  \n",
       "mean     1978.378480  \n",
       "std        29.877632  \n",
       "min      1896.000000  \n",
       "25%      1960.000000  \n",
       "50%      1988.000000  \n",
       "75%      2002.000000  \n",
       "max      2016.000000  "
      ]
     },
     "execution_count": 100,
     "metadata": {},
     "output_type": "execute_result"
    }
   ],
   "source": [
    "olympics.describe()"
   ]
  },
  {
   "cell_type": "markdown",
   "id": "27d591df",
   "metadata": {},
   "source": [
    "The description  of ID and Year column are not generating any meaningful information for us. So, we can ignore their values"
   ]
  },
  {
   "cell_type": "markdown",
   "id": "bf13af09",
   "metadata": {},
   "source": [
    "<b>Lets Look at the columns with numerical datatypes"
   ]
  },
  {
   "cell_type": "code",
   "execution_count": 101,
   "id": "66a6a179",
   "metadata": {},
   "outputs": [
    {
     "data": {
      "text/plain": [
       "['ID', 'Age', 'Height', 'Weight', 'Year']"
      ]
     },
     "execution_count": 101,
     "metadata": {},
     "output_type": "execute_result"
    }
   ],
   "source": [
    "olympics.select_dtypes(include=np.number).columns.tolist()"
   ]
  },
  {
   "cell_type": "markdown",
   "id": "0ce83b96",
   "metadata": {},
   "source": [
    "<b>Lets see what all the columns contain null values, if such coulmns are there then we will print it with total number of null values present in respective columns"
   ]
  },
  {
   "cell_type": "code",
   "execution_count": 102,
   "id": "875b567e",
   "metadata": {},
   "outputs": [
    {
     "name": "stdout",
     "output_type": "stream",
     "text": [
      "Age - 9474\n",
      "Height - 60171\n",
      "Weight - 62875\n",
      "Medal - 231333\n",
      "region - 370\n",
      "notes - 266077\n"
     ]
    }
   ],
   "source": [
    "df = olympics.copy()\n",
    "newdf = df[df.columns[df.isna().any()]]\n",
    "lst = []\n",
    "for i in newdf.columns:\n",
    "    lst.append(i)\n",
    "for j in lst:\n",
    "    print(j,'-', newdf[j].isna().sum())\n"
   ]
  },
  {
   "cell_type": "markdown",
   "id": "b0d9f16c",
   "metadata": {},
   "source": [
    "<b> The columns \"Height\", \"Weight\" and \"Notes\" are not required for further analysis because we are more focused analysis of olympics rather then physical measurements of aheletes and \"notes\" column is mostly null and not contained any important data."
   ]
  },
  {
   "cell_type": "markdown",
   "id": "b51a340e",
   "metadata": {},
   "source": [
    "<b> Let's Drop the Null values of \"Age\", \"Medal\" and \"region\". As, these columns are needed for analysis."
   ]
  },
  {
   "cell_type": "code",
   "execution_count": 103,
   "id": "6dd32f55",
   "metadata": {},
   "outputs": [
    {
     "data": {
      "text/plain": [
       "(270746, 14)"
      ]
     },
     "execution_count": 103,
     "metadata": {},
     "output_type": "execute_result"
    }
   ],
   "source": [
    "olympics = olympics.drop(['Height','Weight','notes'],axis = 1)\n",
    "olympics = olympics.dropna(subset=['region'])\n",
    "\n",
    "olympics.shape"
   ]
  },
  {
   "cell_type": "markdown",
   "id": "48ce371c",
   "metadata": {},
   "source": [
    "We, can see changes after doing droping activity in shape of dataset as number of rows and columns decreased"
   ]
  },
  {
   "cell_type": "markdown",
   "id": "9f9112ab",
   "metadata": {},
   "source": [
    "<b>NOTE : I downloaded the csv file with name \"olympics_cleaned\". Now, we will bw using that file"
   ]
  },
  {
   "cell_type": "code",
   "execution_count": 104,
   "id": "f60d2b17",
   "metadata": {},
   "outputs": [],
   "source": [
    "olympics = pd.read_csv(\"olympics_cleaned.csv\")"
   ]
  },
  {
   "cell_type": "markdown",
   "id": "82041dd1",
   "metadata": {},
   "source": [
    "<b>After performing Droping function there are missing values in Medal Column, it can not be droped because it is not possible for every player to win medal. So, lets fill DNW i.e, DO NOT WIN in missing values of medal column"
   ]
  },
  {
   "cell_type": "code",
   "execution_count": 105,
   "id": "f0d5abf8",
   "metadata": {},
   "outputs": [
    {
     "data": {
      "text/plain": [
       "Medal\n",
       "DNW       230972\n",
       "Gold       13371\n",
       "Bronze     13291\n",
       "Silver     13112\n",
       "Name: count, dtype: int64"
      ]
     },
     "execution_count": 105,
     "metadata": {},
     "output_type": "execute_result"
    }
   ],
   "source": [
    "olympics['Medal']=olympics['Medal'].fillna('DNW')\n",
    "\n",
    "olympics['Medal'].value_counts()"
   ]
  },
  {
   "cell_type": "markdown",
   "id": "ceb48c0b",
   "metadata": {},
   "source": [
    "# STATISTICAL ANALYSIS"
   ]
  },
  {
   "cell_type": "markdown",
   "id": "9d0e9199",
   "metadata": {},
   "source": [
    " As a part of Statistical Analysis, We will answer these questions:\n",
    " \n",
    "1. We have an Age column that contains some null values. Rather than deleting them, fill these missing values by mean after grouping them by games.\n",
    "\n",
    "2. What is the probability distribution “of the age” of all the players who participated in the swimming competition between the years 2000 - 2016.\n",
    "\n",
    "3. Is the overall distribution of Gold Medals tally in India, positive or negative skewed?\n",
    "\n",
    "4. What is the standard deviation/error of the distribution of gold medals when the UK is hosting the Olympic games and when not hosting the games? (When games are hosted in the UK, the city is London.)\n",
    "\n",
    "5. Standardise the age of all the participants participating in the Shooting Competition and calculate this standardised data's mean and standard deviation.\n",
    "\n",
    "6. Is age positively correlated or negatively correlated with winning the medal?\n",
    "\n",
    "7. From the dataset, Calculate the IQR for the Age column"
   ]
  },
  {
   "cell_type": "markdown",
   "id": "39392c78",
   "metadata": {},
   "source": [
    "<b>Question 1 : We have an Age column that contains some null values. Rather than deleting them, fill these missing values by mean after grouping them by games and print the mean of age as the output as well.\n",
    " "
   ]
  },
  {
   "cell_type": "code",
   "execution_count": 106,
   "id": "709be590",
   "metadata": {},
   "outputs": [
    {
     "data": {
      "text/plain": [
       "26"
      ]
     },
     "execution_count": 106,
     "metadata": {},
     "output_type": "execute_result"
    }
   ],
   "source": [
    "olympics['Age'].fillna(olympics.Age.mean())\n",
    "round(olympics.Age.mean())"
   ]
  },
  {
   "cell_type": "markdown",
   "id": "94178c8e",
   "metadata": {},
   "source": [
    "<b>Question 2 : What is the probability distribution “of the age” of all the players who participated in the swimming competition between the years 2000 - 2016."
   ]
  },
  {
   "cell_type": "code",
   "execution_count": 107,
   "id": "60dd3280",
   "metadata": {},
   "outputs": [
    {
     "data": {
      "image/png": "[encoded data removed]",
      "text/plain": [
       "<Figure size 640x480 with 1 Axes>"
      ]
     },
     "metadata": {},
     "output_type": "display_data"
    },
    {
     "name": "stdout",
     "output_type": "stream",
     "text": [
      "20 to 25\n"
     ]
    }
   ],
   "source": [
    "swimming_age = olympics.loc[(olympics[\"Sport\"] == \"Swimming\") & (olympics[\"Year\"] >= 2000) & (olympics[\"Year\"] <= 2020)][\"Age\"] \n",
    "swimming_age = sorted(swimming_age)\n",
    "mean_swimming_age = np.mean(swimming_age) \n",
    "std_swimming_age = np.std(swimming_age) \n",
    "probability_pdf = norm.pdf(swimming_age, loc=mean_swimming_age, scale=std_swimming_age) \n",
    "plt.plot(swimming_age, probability_pdf) \n",
    "plt.show() \n",
    "print(\"20 to 25\")"
   ]
  },
  {
   "cell_type": "markdown",
   "id": "c14c9769",
   "metadata": {},
   "source": [
    "<b>Question 3 : Find out the skewness of Gold Medal Tally of India</b>"
   ]
  },
  {
   "cell_type": "code",
   "execution_count": 108,
   "id": "5517de54",
   "metadata": {},
   "outputs": [
    {
     "name": "stdout",
     "output_type": "stream",
     "text": [
      "Left Skewed\n"
     ]
    }
   ],
   "source": [
    "d = olympics\n",
    "a = d[(d['region'] == 'India') & (d['Medal'] == 'Gold')]\n",
    "val = a.groupby('Year')['Medal'].value_counts().values\n",
    "val.sort()\n",
    "mean = val.mean()\n",
    "sd = val.std()\n",
    "\n",
    "if stats.skew(val)>0:\n",
    "    print('Right Skewed')\n",
    "else:\n",
    "    print('Left Skewed')"
   ]
  },
  {
   "cell_type": "markdown",
   "id": "3abfcbb8",
   "metadata": {},
   "source": [
    "<b>Question 4 : What is the standard deviation/error of the distribution of gold medals when the UK is hosting the Olympic games and when not hosting the games? (When games are hosted in the UK, the city is London.)</b>"
   ]
  },
  {
   "cell_type": "code",
   "execution_count": 109,
   "id": "95b3bc91",
   "metadata": {},
   "outputs": [
    {
     "name": "stdout",
     "output_type": "stream",
     "text": [
      "71.97453253292676\n",
      "18.14528124684469\n"
     ]
    }
   ],
   "source": [
    "hosted = olympics[(olympics['region'] == 'UK') & (olympics['City'] == 'London') & (olympics['Medal'] == 'Gold')]\n",
    "val1 = hosted.groupby('Year')['Medal'].value_counts()\n",
    "\n",
    "stdev1 = val1.std()\n",
    "print(stdev1)\n",
    "\n",
    "not_hosted = olympics[(olympics['region'] == 'UK') & (olympics['City'] != 'London') & (olympics['Medal'] == 'Gold')]\n",
    "val2 = not_hosted.groupby('Year')['Medal'].value_counts()\n",
    "\n",
    "stdev2 = val2.std()\n",
    "print(stdev2)"
   ]
  },
  {
   "cell_type": "markdown",
   "id": "60146c1c",
   "metadata": {},
   "source": [
    "<b>Question 5 :  Calculate this standardised data's mean and standard deviation. After, Standardise the age of all the participants participating in the Shooting Competition."
   ]
  },
  {
   "cell_type": "code",
   "execution_count": 110,
   "id": "be76d28b",
   "metadata": {},
   "outputs": [
    {
     "name": "stdout",
     "output_type": "stream",
     "text": [
      "0\n",
      "1\n"
     ]
    },
    {
     "name": "stderr",
     "output_type": "stream",
     "text": [
      "C:\\Users\\Luckshaya Kem\\AppData\\Local\\Temp\\ipykernel_29620\\1132007454.py:2: SettingWithCopyWarning: \n",
      "A value is trying to be set on a copy of a slice from a DataFrame.\n",
      "Try using .loc[row_indexer,col_indexer] = value instead\n",
      "\n",
      "See the caveats in the documentation: https://pandas.pydata.org/pandas-docs/stable/user_guide/indexing.html#returning-a-view-versus-a-copy\n",
      "  Standardised_data['Age'] =((Standardised_data['Age']) - (Standardised_data['Age'].mean())) / (Standardised_data['Age'].std())\n"
     ]
    }
   ],
   "source": [
    "Standardised_data = olympics[(olympics['Sport'] == 'Shooting')]\n",
    "Standardised_data['Age'] =((Standardised_data['Age']) - (Standardised_data['Age'].mean())) / (Standardised_data['Age'].std())\n",
    "\n",
    "mean = Standardised_data['Age'].mean()\n",
    "std = Standardised_data.Age.std()\n",
    "print(round(mean))\n",
    "print(round(std))"
   ]
  },
  {
   "cell_type": "markdown",
   "id": "72b892bc",
   "metadata": {},
   "source": [
    "<b>Question 6 : Is Age positively correlated or negatively correlated with winning the medal?"
   ]
  },
  {
   "cell_type": "code",
   "execution_count": 3,
   "id": "32bbbf73",
   "metadata": {},
   "outputs": [
    {
     "name": "stdout",
     "output_type": "stream",
     "text": [
      "Positive\n"
     ]
    }
   ],
   "source": [
    "import pandas as pd\n",
    "import matplotlib.pyplot as plt\n",
    "\n",
    "# Load the dataset\n",
    "df = pd.read_csv('olympics.csv')\n",
    "\n",
    "# Create a binary variable 'WonMedal' (1 if won a medal, 0 if didn't win)\n",
    "df['Won_Medal'] = df['Medal'].apply(lambda x: 1 if x == 'Gold' or x == 'Silver' or x == 'Bronze' else 0)\n",
    "\n",
    "# Calculate the correlation coefficient between 'Age' and 'WonMedal'\n",
    "correlation = df['Age'].corr(df['Won_Medal'])\n",
    "\n",
    "# Determine if the correlation is positive or negative\n",
    "result = \"Positive\" if correlation > 0 else \"Negative\"\n",
    "\n",
    "# Print the result\n",
    "print(result)\n"
   ]
  },
  {
   "cell_type": "markdown",
   "id": "a49775cd",
   "metadata": {},
   "source": [
    "<b>Question 7 : Calculate the IQR for the Age column."
   ]
  },
  {
   "cell_type": "code",
   "execution_count": 18,
   "id": "80fd7c2d",
   "metadata": {},
   "outputs": [
    {
     "name": "stdout",
     "output_type": "stream",
     "text": [
      "6.0\n"
     ]
    }
   ],
   "source": [
    "df = pd.read_csv('olympics_cleaned.csv')\n",
    "age = df['Age']\n",
    "\n",
    "# Calculate the first quartile (Q1) and third quartile (Q3)\n",
    "q1 = age.quantile(0.25)\n",
    "q3 = age.quantile(0.75)\n",
    "\n",
    "# Calculate the Interquartile Range (IQR)\n",
    "iqr = q3 - q1\n",
    "\n",
    "# Print the IQR value\n",
    "print(iqr)"
   ]
  },
  {
   "cell_type": "markdown",
   "id": "20f0669e",
   "metadata": {},
   "source": [
    "# DATASET VISUALIZATION"
   ]
  },
  {
   "cell_type": "markdown",
   "id": "844ba666",
   "metadata": {},
   "source": [
    "As a part of Dataset Visualization, We will answer these questions:\n",
    "\n",
    "1. Which sport is having the most number of medals so far?\n",
    "2. Which player has won the most number of Gold Medals of medals?\n",
    "3. Which event is most popular in terms of the number of players?\n",
    "4. Which event is most popular in terms of the number of players?\n",
    "5. Which sport is having the most female Gold Medalists?\n"
   ]
  },
  {
   "cell_type": "markdown",
   "id": "c4f0a38b",
   "metadata": {},
   "source": [
    "<b>Question 1 : Which sport is having the most number of medals so far? First plot the bar chart to find out the top 5 sports that have the most number of medals and then print the sport having the highest medals."
   ]
  },
  {
   "cell_type": "code",
   "execution_count": 26,
   "id": "7d2ad0df",
   "metadata": {},
   "outputs": [
    {
     "data": {
      "image/png": "[encoded data removed]",
      "text/plain": [
       "<Figure size 640x480 with 1 Axes>"
      ]
     },
     "metadata": {},
     "output_type": "display_data"
    },
    {
     "name": "stdout",
     "output_type": "stream",
     "text": [
      "Athletics\n"
     ]
    }
   ],
   "source": [
    "import numpy as np # linear algebra\n",
    "import pandas as pd # data processing, CSV file I/O (e.g. pd.read_csv)\n",
    "import matplotlib.pyplot as plt\n",
    "\n",
    "df = pd.read_csv('olympics_cleaned.csv')\n",
    "sport_medals = df.groupby('Sport')['Medal'].count().reset_index()\n",
    "\n",
    "# Sort by the number of medals in descending order\n",
    "top_sports = sport_medals.sort_values(by='Medal', ascending=False).head(5)\n",
    "\n",
    "# Plot the bar chart for the top 5 sports\n",
    "top_5 = sport_medals.head(5)\n",
    "top_5.plot(kind='bar', color='skyblue')\n",
    "plt.title('Top 5 Sports with the Most Medals')\n",
    "plt.xlabel('Sport')\n",
    "plt.ylabel('Number of Medals')\n",
    "plt.xticks(rotation=45)\n",
    "plt.tight_layout()\n",
    "plt.show()\n",
    "\n",
    "# Find the sport with the highest number of medals\n",
    "sport_with_most_medals = top_sports.iloc[0]['Sport']\n",
    "print(sport_with_most_medals)\n"
   ]
  },
  {
   "cell_type": "markdown",
   "id": "17d051dd",
   "metadata": {},
   "source": [
    "<b>Question 2 : Which Sport has the most number of Gold Medals so far? First plot the bar chart to find out the top 5 sports that have the most number Gold of medals and then print the sport having the highest number of Gold medals."
   ]
  },
  {
   "cell_type": "code",
   "execution_count": 33,
   "id": "c12f1361",
   "metadata": {},
   "outputs": [
    {
     "data": {
      "image/png": "[encoded data removed]",
      "text/plain": [
       "<Figure size 640x480 with 1 Axes>"
      ]
     },
     "metadata": {},
     "output_type": "display_data"
    },
    {
     "name": "stdout",
     "output_type": "stream",
     "text": [
      "Athletics\n"
     ]
    }
   ],
   "source": [
    "df = pd.read_csv('olympics_cleaned.csv')\n",
    "gold_medals_df = df[df['Medal'] == 'Gold']\n",
    "\n",
    "# Group by sport and count the number of gold medals\n",
    "sport_gold_medals = gold_medals_df.groupby('Sport')['Medal'].count().reset_index()\n",
    "\n",
    "# Sort by the number of gold medals in descending order\n",
    "top_gold_sports = sport_gold_medals.sort_values(by='Medal', ascending=False).head(5)\n",
    "top_5 = sport_gold_medals.head(5)\n",
    "top_5.plot(kind='bar', color='skyblue')\n",
    "plt.title('Top 5 Sports with the Most Gold Medals')\n",
    "plt.xlabel('Sport')\n",
    "plt.ylabel('Number of Gold Medals')\n",
    "plt.xticks(rotation=45)\n",
    "plt.tight_layout()\n",
    "plt.show()\n",
    "\n",
    "# Find the sport with the highest number of gold medals\n",
    "sport_with_most_gold_medals = top_gold_sports.iloc[0]['Sport']\n",
    "print(sport_with_most_gold_medals)"
   ]
  },
  {
   "cell_type": "markdown",
   "id": "5f0f88ec",
   "metadata": {},
   "source": [
    "<b> Question 3 : In which year did India win the first Gold Medal in the Olympics?"
   ]
  },
  {
   "cell_type": "code",
   "execution_count": 36,
   "id": "5f398124",
   "metadata": {},
   "outputs": [
    {
     "name": "stdout",
     "output_type": "stream",
     "text": [
      "1924\n"
     ]
    }
   ],
   "source": [
    "df = pd.read_csv('olympics_cleaned.csv')\n",
    "\n",
    "\n",
    "india_gold = df[(df['region'] == 'India') & (df['Medal'] == 'Gold')]\n",
    "\n",
    "# Find the earliest year of winning a gold medal\n",
    "first_gold_year = india_gold['Year'].min()\n",
    "\n",
    "print(first_gold_year)"
   ]
  },
  {
   "cell_type": "markdown",
   "id": "33c23163",
   "metadata": {},
   "source": [
    "<b>Question 4 : Which event is most popular in terms of the number of players? First plot the bar chart to find out the top 5 sports that have the most number of participants and then print the sport having the highest number of players participating."
   ]
  },
  {
   "cell_type": "code",
   "execution_count": 38,
   "id": "3bae623f",
   "metadata": {},
   "outputs": [
    {
     "data": {
      "image/png": "[encoded data removed]",
      "text/plain": [
       "<Figure size 1000x600 with 1 Axes>"
      ]
     },
     "metadata": {},
     "output_type": "display_data"
    },
    {
     "name": "stdout",
     "output_type": "stream",
     "text": [
      "Football Men's Football\n"
     ]
    }
   ],
   "source": [
    "df = pd.read_csv('olympics_cleaned.csv')\n",
    "event_participants = df.groupby('Event')['Name'].count()\n",
    "k = event_participants.sort_values(ascending = False)\n",
    "top_events = event_participants.nlargest(5)\n",
    "top_events.plot(kind='bar', figsize=(10, 6), color='orange')\n",
    "plt.title('Top 5 Events with Most Participants')\n",
    "plt.xlabel('Event')\n",
    "plt.ylabel('Number of Participants')\n",
    "plt.show()\n",
    "print(k.index[0])"
   ]
  },
  {
   "cell_type": "markdown",
   "id": "207a852d",
   "metadata": {},
   "source": [
    "<b> Question 5 : Which sport is having the most female Gold Medalists? First plot the bar chart to find out the top 5 sports that have the most female Gold Medalists and then print the sport having the most female Gold Medalists."
   ]
  },
  {
   "cell_type": "code",
   "execution_count": 40,
   "id": "90472d19",
   "metadata": {},
   "outputs": [
    {
     "data": {
      "image/png": "[encoded data removed]",
      "text/plain": [
       "<Figure size 640x480 with 1 Axes>"
      ]
     },
     "metadata": {},
     "output_type": "display_data"
    },
    {
     "name": "stdout",
     "output_type": "stream",
     "text": [
      "Swimming\n"
     ]
    }
   ],
   "source": [
    "df = pd.read_csv('olympics_cleaned.csv')\n",
    "female_gold_df = df[(df['Sex'] == 'F') & (df['Medal'] == 'Gold')]\n",
    "\n",
    "# Group by sport and count the number of female gold medalists\n",
    "sport_female_gold_medals = female_gold_df.groupby('Sport')['Medal'].count().reset_index()\n",
    "\n",
    "\n",
    "# Sort by the number of female gold medalists in descending order\n",
    "top_female_gold_sports = sport_female_gold_medals.sort_values(by='Medal', ascending=False).head(5)\n",
    "\n",
    "\n",
    "top_female_gold_sports.plot(kind='bar', color='skyblue')\n",
    "plt.title('Top 5 Sports with the Most Female Gold Medals')\n",
    "plt.xlabel('Sport')\n",
    "plt.ylabel('Number of Female Gold Medals')\n",
    "plt.xticks(rotation=45)\n",
    "plt.tight_layout()\n",
    "plt.show()\n",
    "\n",
    "# Find the sport with the most female gold medalists\n",
    "sport_with_most_female_gold_medalists = top_female_gold_sports.iloc[0]['Sport']\n",
    "print(sport_with_most_female_gold_medalists)"
   ]
  }
 ],
 "metadata": {
  "kernelspec": {
   "display_name": "Python 3 (ipykernel)",
   "language": "python",
   "name": "python3"
  },
  "language_info": {
   "codemirror_mode": {
    "name": "ipython",
    "version": 3
   },
   "file_extension": ".py",
   "mimetype": "text/x-python",
   "name": "python",
   "nbconvert_exporter": "python",
   "pygments_lexer": "ipython3",
   "version": "3.11.5"
  }
 },
 "nbformat": 4,
 "nbformat_minor": 5
}
